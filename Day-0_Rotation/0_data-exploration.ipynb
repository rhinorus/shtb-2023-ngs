{
 "cells": [
  {
   "attachments": {},
   "cell_type": "markdown",
   "metadata": {},
   "source": [
    "### Часть I. Изучим данные | Part I. Data exploration "
   ]
  },
  {
   "cell_type": "code",
   "execution_count": null,
   "metadata": {},
   "outputs": [],
   "source": [
    "# ================\n",
    "# Блок 1\n",
    "# Block 1\n",
    "# ================\n",
    "\n",
    "# Импорт необходимых для работы библиотек | Import libraries\n",
    "import pandas\n",
    "import plotly.express as px\n",
    "\n",
    "# Изменение инструмента для построения графиков на 'plotly'\n",
    "# Change plotting tool to 'plotly'\n",
    "pandas.options.plotting.backend = 'plotly'\n",
    "\n",
    "# Чтение данных из .CSV файла | Read data from .CSV file\n",
    "data = pandas.read_csv('data.csv', index_col='sample')"
   ]
  },
  {
   "cell_type": "code",
   "execution_count": null,
   "metadata": {},
   "outputs": [],
   "source": [
    "# ================\n",
    "# Блок 2\n",
    "# Block 2\n",
    "# ================\n",
    "\n",
    "# Простая печать первых 10 строк данных\n",
    "# Simple print of the first 10 rows\n",
    "data.head(10)"
   ]
  },
  {
   "cell_type": "code",
   "execution_count": null,
   "metadata": {},
   "outputs": [],
   "source": [
    "# ================\n",
    "# Блок 3\n",
    "# Block 3\n",
    "# ================\n",
    "\n",
    "# Краткое описание статистики данных\n",
    "# Short data description\n",
    "\n",
    "data.describe()"
   ]
  },
  {
   "cell_type": "code",
   "execution_count": null,
   "metadata": {},
   "outputs": [],
   "source": [
    "# ================\n",
    "# Блок 4\n",
    "# Block 4\n",
    "# ================\n",
    "\n",
    "# Транспонирование данных\n",
    "# Data transpose\n",
    "\n",
    "data = data.transpose()\n",
    "data.head(10)"
   ]
  },
  {
   "cell_type": "code",
   "execution_count": null,
   "metadata": {},
   "outputs": [],
   "source": [
    "# ================\n",
    "# Блок 5\n",
    "# Block 5\n",
    "# ================\n",
    "\n",
    "# Попытайтесь понять, можно ли вы извлечь полезную информацию из данного графика?\n",
    "# Try to understand if you can extract useful information from this graph?\n",
    "\n",
    "fig = px.line(data)\n",
    "fig.write_html(\"chart_001.html\")"
   ]
  },
  {
   "cell_type": "code",
   "execution_count": null,
   "metadata": {},
   "outputs": [],
   "source": []
  }
 ],
 "metadata": {
  "kernelspec": {
   "display_name": "Python 3",
   "language": "python",
   "name": "python3"
  },
  "language_info": {
   "codemirror_mode": {
    "name": "ipython",
    "version": 3
   },
   "file_extension": ".py",
   "mimetype": "text/x-python",
   "name": "python",
   "nbconvert_exporter": "python",
   "pygments_lexer": "ipython3",
   "version": "3.9.5"
  },
  "orig_nbformat": 4,
  "vscode": {
   "interpreter": {
    "hash": "916dbcbb3f70747c44a77c7bcd40155683ae19c65e1c03b4aa3499c5328201f1"
   }
  }
 },
 "nbformat": 4,
 "nbformat_minor": 2
}

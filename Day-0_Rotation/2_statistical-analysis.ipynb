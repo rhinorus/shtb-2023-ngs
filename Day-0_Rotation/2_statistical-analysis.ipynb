{
 "cells": [
  {
   "attachments": {},
   "cell_type": "markdown",
   "metadata": {},
   "source": [
    "### Часть III. Статистический анализ\n",
    "### Part III. Statistical analysis"
   ]
  },
  {
   "cell_type": "code",
   "execution_count": null,
   "metadata": {},
   "outputs": [],
   "source": [
    "# ================\n",
    "# Блок 1\n",
    "# Block 1\n",
    "# ================\n",
    "\n",
    "# Импорт необходимых для работы библиотек | Import libraries\n",
    "import pandas\n",
    "\n",
    "# Изменение инструмента для построения графиков на 'plotly'\n",
    "# Change plotting tool to 'plotly'\n",
    "pandas.options.plotting.backend = 'plotly'\n",
    "\n",
    "# Чтение данных из .CSV файла | Read data from .CSV file\n",
    "data = pandas.read_csv('pt-II_result.csv', index_col='sample')\n",
    "data = data.astype(float)\n",
    "data.head(10)"
   ]
  },
  {
   "cell_type": "code",
   "execution_count": null,
   "metadata": {},
   "outputs": [],
   "source": [
    "# ================\n",
    "# Блок 2\n",
    "# Block 2\n",
    "# ================\n",
    "\n",
    "# Подсчет среднего значения для каждой отдельной хромосомы\n",
    "# Calculation of mean values ​​for each individual chromosome\n",
    "\n",
    "CHR_STATS = {}\n",
    "\n",
    "transposed_data = data.transpose()\n",
    "for chromosome in transposed_data.columns:\n",
    "    CHR_STATS[chromosome] = {}\n",
    "\n",
    "    CHR_STATS[chromosome]['mean'] = transposed_data[chromosome].mean()\n",
    "    CHR_STATS[chromosome]['std'] = transposed_data[chromosome].std()"
   ]
  },
  {
   "cell_type": "code",
   "execution_count": null,
   "metadata": {},
   "outputs": [],
   "source": [
    "# ================\n",
    "# Блок 3\n",
    "# Block 3\n",
    "# ================\n",
    "\n",
    "# Подсчет количества стандартных отклонений от среднего (правило 3 сигм)\n",
    "# Counting the number of standard deviations from the mean (3-sigma rule)\n",
    "\n",
    "def to_number_of_std(sample):\n",
    "    \n",
    "    for (chromosome, coverage) in sample.iteritems():\n",
    "        sample[chromosome] = (coverage - CHR_STATS[chromosome]['mean']) / CHR_STATS[chromosome]['std']\n",
    "\n",
    "    return sample\n",
    "\n",
    "data = data.apply(to_number_of_std)\n",
    "data.head(10)"
   ]
  },
  {
   "cell_type": "code",
   "execution_count": null,
   "metadata": {},
   "outputs": [],
   "source": [
    "# ================\n",
    "# Блок 4\n",
    "# Block 4\n",
    "# ================\n",
    "\n",
    "# Попытайтесь понять, можно ли вы извлечь полезную информацию из данного графика?\n",
    "# Try to understand if you can extract useful information from this graph?\n",
    "\n",
    "data.plot()"
   ]
  },
  {
   "cell_type": "markdown",
   "metadata": {},
   "source": []
  }
 ],
 "metadata": {
  "kernelspec": {
   "display_name": "Python 3",
   "language": "python",
   "name": "python3"
  },
  "language_info": {
   "codemirror_mode": {
    "name": "ipython",
    "version": 3
   },
   "file_extension": ".py",
   "mimetype": "text/x-python",
   "name": "python",
   "nbconvert_exporter": "python",
   "pygments_lexer": "ipython3",
   "version": "3.9.5"
  },
  "orig_nbformat": 4,
  "vscode": {
   "interpreter": {
    "hash": "916dbcbb3f70747c44a77c7bcd40155683ae19c65e1c03b4aa3499c5328201f1"
   }
  }
 },
 "nbformat": 4,
 "nbformat_minor": 2
}
